{
 "cells": [
  {
   "cell_type": "markdown",
   "metadata": {},
   "source": [
    "### Instructions\n",
    "\n",
    "For the period 12/31/2019 - 12/31/2020:\n",
    "    A. Compute daily excess return levels based on comparisons to risk free (3Mo T-bill)\n",
    "    B. Compute log cumulative excess return over the same period"
   ]
  },
  {
   "cell_type": "code",
   "execution_count": 1,
   "metadata": {},
   "outputs": [],
   "source": [
    "import pandas as pd\n",
    "import numpy as np\n",
    "pd.set_option('display.max_rows', 500)"
   ]
  },
  {
   "cell_type": "markdown",
   "metadata": {},
   "source": [
    "### Helper function definitions"
   ]
  },
  {
   "cell_type": "code",
   "execution_count": 2,
   "metadata": {},
   "outputs": [],
   "source": [
    "#Define helper functions for analysis\n",
    "def process_tbill(df):\n",
    "    df['DTB3'] = df['DTB3'].replace('.', np.NaN)\n",
    "    df['DTB3'] = df['DTB3'].astype(float)\n",
    "    df['DATE'] = pd.to_datetime(df['DATE'])\n",
    "    mask = (df['DATE'] >= '2019-12-30') & (df['DATE'] <= '2020-12-31')\n",
    "    df = df.loc[mask]\n",
    "    df = df.rename(columns={'DTB3':'price', 'DATE':'date'})\n",
    "    return df\n",
    "\n",
    "def process_oil(df):\n",
    "    df['Date'] = pd.to_datetime(df['Date'])\n",
    "    df = df.rename(columns={'Cushing, OK WTI Spot Price FOB (Dollars per Barrel)':'price', 'Date':'date'})\n",
    "    mask = (df['date'] >= '2019-12-30') & (df['date'] <= '2020-12-31')\n",
    "    df = df.loc[mask]\n",
    "    return df\n",
    "\n",
    "def calc_daily_return(df):\n",
    "    df['daily_return'] = df['price']/df['price'].shift(1)-1\n",
    "    return df"
   ]
  },
  {
   "cell_type": "markdown",
   "metadata": {},
   "source": [
    "### Data Wrangling"
   ]
  },
  {
   "cell_type": "code",
   "execution_count": 3,
   "metadata": {},
   "outputs": [
    {
     "name": "stdout",
     "output_type": "stream",
     "text": [
      "DatetimeIndex(['2020-01-01', '2020-01-20', '2020-02-17', '2020-04-10',\n",
      "               '2020-05-25', '2020-07-03', '2020-09-07', '2020-11-26',\n",
      "               '2020-11-27', '2020-12-25'],\n",
      "              dtype='datetime64[ns]', freq=None) \n",
      "\n",
      "DatetimeIndex(['2020-08-31'], dtype='datetime64[ns]', freq=None)\n"
     ]
    }
   ],
   "source": [
    "#Load datasets\n",
    "#Historical Daily Oil Prices\n",
    "df_oil = pd.read_csv('RWTCd.csv')\n",
    "df_oil = process_oil(df_oil)\n",
    "\n",
    "#3 Month Treasury Bill\n",
    "df_tbill = pd.read_csv('3MO.csv')\n",
    "df_tbill = process_tbill(df_tbill)\n",
    "\n",
    "#check for missing dates in oil prices\n",
    "date_range = pd.date_range(start=\"2019-12-31\", end=\"2020-12-31\", freq='B') #range of business days in desired window\n",
    "missing_dates = date_range.difference(df_oil['date'])\n",
    "\n",
    "print(missing_dates,'\\n') #missing oil price dates are holidays, remove from treasury bill data\n",
    "\n",
    "#an additional date (2020-08-31) is missing from tbill, add in and interpolate missing price value\n",
    "print(date_range.difference(df_tbill['date'])) \n",
    "\n",
    "df_tbill = df_tbill.loc[~df_tbill['date'].isin(missing_dates)] #remove dates from tbill\n",
    "\n",
    "temp = {'date': pd.Timestamp('2020-08-31'), 'price': np.nan} #add in additional missing date to tbill, sort dates again\n",
    "df_tbill = df_tbill.append(temp, ignore_index=True)\n",
    "df_tbill = df_tbill.sort_values(by=\"date\")\n",
    "\n",
    "#interpolate price for any NaN values in tbill data (a few missing values are NaN as well as missing date just added)\n",
    "df_tbill['price'] = df_tbill['price'].interpolate()"
   ]
  },
  {
   "cell_type": "markdown",
   "metadata": {},
   "source": [
    "### Calculations\n",
    "##### Formulas\n",
    "\n",
    "$Daily Return = \\frac{Todays Price}{YesterdaysPrice} -1$                    (   $ r_t = \\frac{p_t}{p_{t-1}} -1$   )\n",
    "\n",
    "$Excess Return = Return - Riskfree Return$\n",
    "\n",
    "$Log Returns = ln(1+return)$\n",
    "\n",
    "$Log Cumulative = sum(Log Returns)$"
   ]
  },
  {
   "cell_type": "code",
   "execution_count": 4,
   "metadata": {},
   "outputs": [],
   "source": [
    "#Calculate daily returns for oil and tbill\n",
    "df_oil = calc_daily_return(df_oil)\n",
    "df_tbill = calc_daily_return(df_tbill)"
   ]
  },
  {
   "cell_type": "code",
   "execution_count": 5,
   "metadata": {},
   "outputs": [],
   "source": [
    "#Calculate Daily Excess Return levels (compare oil to riskfree tbill)\n",
    "result = df_oil.merge(df_tbill, on='date', suffixes=('_oil','_tbill')) #combine oil and tbill into one dataframe\n",
    "\n",
    "#calculate excess return (oil return - tbill return)\n",
    "result['daily_excess_return'] = result['daily_return_oil']-result['daily_return_tbill'] \n",
    "\n",
    "result = result[['date','daily_return_oil','daily_return_tbill', 'daily_excess_return']]"
   ]
  },
  {
   "cell_type": "code",
   "execution_count": 6,
   "metadata": {},
   "outputs": [
    {
     "name": "stderr",
     "output_type": "stream",
     "text": [
      "C:\\Users\\Zach\\anaconda3\\lib\\site-packages\\pandas\\core\\series.py:679: RuntimeWarning: invalid value encountered in log\n",
      "  result = getattr(ufunc, method)(*inputs, **kwargs)\n"
     ]
    }
   ],
   "source": [
    "#Calculate the Log Cumulative Excess Return over same period\n",
    "#log return of each, add values\n",
    "# np.log\n",
    "\n",
    "df_oil['log_return'] = np.log(1+df_oil['daily_return'])\n",
    "oil_log_cumulative = df_oil['log_return'].sum()\n",
    "\n",
    "df_tbill['log_return'] = np.log(1+df_tbill['daily_return'])\n",
    "tbill_log_cumulative = df_tbill['log_return'].sum()\n",
    "\n",
    "log_cumulative_excess_return = oil_log_cumulative-tbill_log_cumulative #calculate Log Cumulative Excess Return"
   ]
  },
  {
   "cell_type": "markdown",
   "metadata": {},
   "source": [
    "### Results"
   ]
  },
  {
   "cell_type": "code",
   "execution_count": 7,
   "metadata": {},
   "outputs": [
    {
     "name": "stdout",
     "output_type": "stream",
     "text": [
      "Log cumulative excess return : 4.192300679076308\n"
     ]
    }
   ],
   "source": [
    "# Log Cumulative Excess Return\n",
    "print(f'Log cumulative excess return : {log_cumulative_excess_return}')"
   ]
  },
  {
   "cell_type": "code",
   "execution_count": 8,
   "metadata": {},
   "outputs": [
    {
     "data": {
      "text/html": [
       "<div>\n",
       "<style scoped>\n",
       "    .dataframe tbody tr th:only-of-type {\n",
       "        vertical-align: middle;\n",
       "    }\n",
       "\n",
       "    .dataframe tbody tr th {\n",
       "        vertical-align: top;\n",
       "    }\n",
       "\n",
       "    .dataframe thead th {\n",
       "        text-align: right;\n",
       "    }\n",
       "</style>\n",
       "<table border=\"1\" class=\"dataframe\">\n",
       "  <thead>\n",
       "    <tr style=\"text-align: right;\">\n",
       "      <th></th>\n",
       "      <th>date</th>\n",
       "      <th>daily_return_oil</th>\n",
       "      <th>daily_return_tbill</th>\n",
       "      <th>daily_excess_return</th>\n",
       "    </tr>\n",
       "  </thead>\n",
       "  <tbody>\n",
       "    <tr>\n",
       "      <th>0</th>\n",
       "      <td>2019-12-30</td>\n",
       "      <td>NaN</td>\n",
       "      <td>NaN</td>\n",
       "      <td>NaN</td>\n",
       "    </tr>\n",
       "    <tr>\n",
       "      <th>1</th>\n",
       "      <td>2019-12-31</td>\n",
       "      <td>-0.008433</td>\n",
       "      <td>-0.012987</td>\n",
       "      <td>0.004554</td>\n",
       "    </tr>\n",
       "    <tr>\n",
       "      <th>2</th>\n",
       "      <td>2020-01-02</td>\n",
       "      <td>0.000491</td>\n",
       "      <td>-0.006579</td>\n",
       "      <td>0.007070</td>\n",
       "    </tr>\n",
       "    <tr>\n",
       "      <th>3</th>\n",
       "      <td>2020-01-03</td>\n",
       "      <td>0.029917</td>\n",
       "      <td>-0.013245</td>\n",
       "      <td>0.043162</td>\n",
       "    </tr>\n",
       "    <tr>\n",
       "      <th>4</th>\n",
       "      <td>2020-01-06</td>\n",
       "      <td>0.004286</td>\n",
       "      <td>0.026846</td>\n",
       "      <td>-0.022560</td>\n",
       "    </tr>\n",
       "  </tbody>\n",
       "</table>\n",
       "</div>"
      ],
      "text/plain": [
       "        date  daily_return_oil  daily_return_tbill  daily_excess_return\n",
       "0 2019-12-30               NaN                 NaN                  NaN\n",
       "1 2019-12-31         -0.008433           -0.012987             0.004554\n",
       "2 2020-01-02          0.000491           -0.006579             0.007070\n",
       "3 2020-01-03          0.029917           -0.013245             0.043162\n",
       "4 2020-01-06          0.004286            0.026846            -0.022560"
      ]
     },
     "execution_count": 8,
     "metadata": {},
     "output_type": "execute_result"
    }
   ],
   "source": [
    "# Daily Excess Return Levels\n",
    "result.head()"
   ]
  },
  {
   "cell_type": "markdown",
   "metadata": {},
   "source": [
    "##### Save result to csv - uncomment cell below to save"
   ]
  },
  {
   "cell_type": "code",
   "execution_count": 9,
   "metadata": {},
   "outputs": [],
   "source": [
    "# result.to_csv('daily_excess_results.csv')"
   ]
  }
 ],
 "metadata": {
  "kernelspec": {
   "display_name": "Python 3",
   "language": "python",
   "name": "python3"
  },
  "language_info": {
   "codemirror_mode": {
    "name": "ipython",
    "version": 3
   },
   "file_extension": ".py",
   "mimetype": "text/x-python",
   "name": "python",
   "nbconvert_exporter": "python",
   "pygments_lexer": "ipython3",
   "version": "3.7.6"
  }
 },
 "nbformat": 4,
 "nbformat_minor": 4
}
